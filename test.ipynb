{
 "cells": [
  {
   "cell_type": "code",
   "execution_count": 7,
   "metadata": {},
   "outputs": [
    {
     "name": "stdout",
     "output_type": "stream",
     "text": [
      "Merged Intervals: [(datetime.datetime(1900, 1, 1, 11, 1, 1), datetime.datetime(1900, 1, 1, 13, 1, 1)), (datetime.datetime(1900, 1, 1, 9, 1, 1), datetime.datetime(1900, 1, 1, 12, 1, 1)), (datetime.datetime(1900, 1, 1, 8, 1, 1), datetime.datetime(1900, 1, 1, 8, 31, 1)), (datetime.datetime(1900, 1, 1, 8, 1, 1), datetime.datetime(1900, 1, 1, 13, 1, 1))]\n"
     ]
    }
   ],
   "source": [
    "from datetime import datetime\n",
    "\n",
    "# Function to convert time string to datetime object\n",
    "def to_datetime(time):\n",
    "    return datetime.strptime(f\"{time}\", \"%H:%M:%S\")\n",
    "\n",
    "# Function to merge intersections and unions of multiple time intervals\n",
    "def merge_intervals(intervals, new_interval):\n",
    "    merged = []\n",
    "\n",
    "    new_start = to_datetime(new_interval[\"start\"])\n",
    "    new_stop = to_datetime(new_interval[\"stop\"])\n",
    "\n",
    "    for interval in intervals:\n",
    "        start = to_datetime(interval[\"start\"])\n",
    "        stop = to_datetime(interval[\"stop\"])\n",
    "        if start < new_stop:\n",
    "            print('continue')\n",
    "            continue\n",
    "        elif stop > new_start:\n",
    "            print('continue')\n",
    "            continue\n",
    "        # Check for intersection\n",
    "        _ = False\n",
    "        if start < new_start:\n",
    "            new_start = start\n",
    "            _ = True\n",
    "        if stop > new_stop:\n",
    "            new_stop = stop\n",
    "            _ = True\n",
    "        if _:\n",
    "            merged.append((start, stop))\n",
    "    merged.append((new_start, new_stop))\n",
    "\n",
    "    return merged\n",
    "\n",
    "# Given intervals\n",
    "intervals = [\n",
    "    {\"date\": \"2024-06-06\", \"start\": \"11:01:01\", \"stop\": \"13:01:01\"},\n",
    "    {\"date\": \"2024-06-06\", \"start\": \"9:01:01\", \"stop\": \"12:01:01\"},\n",
    "    {\"date\": \"2024-06-06\", \"start\": \"8:01:01\", \"stop\": \"8:31:01\"}\n",
    "]\n",
    "new_interval = {\"date\": \"2024-06-06\", \"start\": \"12:01:01\", \"stop\": \"13:01:01\"}\n",
    "\n",
    "# Get merged intervals\n",
    "result = merge_intervals(intervals, new_interval)\n",
    "\n",
    "print(\"Merged Intervals:\", result)\n"
   ]
  },
  {
   "cell_type": "code",
   "execution_count": null,
   "metadata": {},
   "outputs": [],
   "source": []
  }
 ],
 "metadata": {
  "kernelspec": {
   "display_name": "Python 3",
   "language": "python",
   "name": "python3"
  },
  "language_info": {
   "codemirror_mode": {
    "name": "ipython",
    "version": 3
   },
   "file_extension": ".py",
   "mimetype": "text/x-python",
   "name": "python",
   "nbconvert_exporter": "python",
   "pygments_lexer": "ipython3",
   "version": "3.11.3"
  }
 },
 "nbformat": 4,
 "nbformat_minor": 2
}
